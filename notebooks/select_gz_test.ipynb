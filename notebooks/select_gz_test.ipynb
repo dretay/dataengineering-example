{
 "cells": [
  {
   "cell_type": "code",
   "execution_count": 85,
   "id": "745de91c",
   "metadata": {},
   "outputs": [],
   "source": [
    "from io import StringIO\n",
    "import boto3\n",
    "import pandas as pd\n",
    "import gzip\n",
    "import pyarrow as pa\n",
    "import pyarrow.parquet as pq\n",
    "import os\n",
    "from tqdm import tqdm"
   ]
  },
  {
   "cell_type": "code",
   "execution_count": 86,
   "id": "7ea58795",
   "metadata": {},
   "outputs": [],
   "source": [
    "s3 = boto3.resource('s3', \n",
    "    endpoint_url='http://minio:9000',\n",
    "    aws_access_key_id='admin',\n",
    "    aws_secret_access_key='password',\n",
    "    aws_session_token=None,\n",
    "    config=boto3.session.Config(signature_version='s3v4'),\n",
    "    verify=False\n",
    ")\n",
    "BUCKET='datalake'\n",
    "TCPH_CSV_FOLDER='tcph_csv/'\n",
    "TCPH_PARQUET_FOLDER='tcph_parquet/'\n",
    "bucket = s3.Bucket(name=BUCKET)"
   ]
  },
  {
   "cell_type": "code",
   "execution_count": null,
   "id": "99c576a6",
   "metadata": {},
   "outputs": [
    {
     "name": "stderr",
     "output_type": "stream",
     "text": [
      "8it [00:05,  1.44it/s]\n"
     ]
    }
   ],
   "source": [
    "for object in tqdm(bucket.objects.filter(Prefix=TCPH_CSV_FOLDER)):\n",
    "    if object.size <= 0:\n",
    "        continue\n",
    "    fileName = os.path.splitext(object.key)[0].split(\"/\",1)[1]\n",
    "    s3_obj = s3.Object(bucket_name=BUCKET, key=object.key)\n",
    "    obj = s3_obj.get()['Body']\n",
    "    df = pd.read_csv(obj, compression='gzip',header=None, sep='|')\n",
    "    table = pa.Table.from_pandas(df)\n",
    "    buf = pa.BufferOutputStream()\n",
    "    pq.write_table(table, buf)\n",
    "    s3.Bucket(BUCKET).put_object(Key=TCPH_PARQUET_FOLDER+fileName, Body=buf.getvalue().to_pybytes()) "
   ]
  }
 ],
 "metadata": {
  "kernelspec": {
   "display_name": "Python 3 (ipykernel)",
   "language": "python",
   "name": "python3"
  },
  "language_info": {
   "codemirror_mode": {
    "name": "ipython",
    "version": 3
   },
   "file_extension": ".py",
   "mimetype": "text/x-python",
   "name": "python",
   "nbconvert_exporter": "python",
   "pygments_lexer": "ipython3",
   "version": "3.10.16"
  }
 },
 "nbformat": 4,
 "nbformat_minor": 5
}
