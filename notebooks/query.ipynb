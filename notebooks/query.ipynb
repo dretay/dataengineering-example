{
 "cells": [
  {
   "cell_type": "code",
   "execution_count": 1,
   "id": "3ad35aaa",
   "metadata": {},
   "outputs": [
    {
     "name": "stderr",
     "output_type": "stream",
     "text": [
      "25/04/08 17:21:40 WARN SparkSession: Using an existing Spark session; only runtime SQL configurations will take effect.\n"
     ]
    }
   ],
   "source": [
    "from pyspark.sql import SparkSession\n",
    "spark = SparkSession.builder.appName(\"Jupyter\").getOrCreate()"
   ]
  },
  {
   "cell_type": "code",
   "execution_count": 2,
   "id": "a0180b7c",
   "metadata": {},
   "outputs": [
    {
     "name": "stderr",
     "output_type": "stream",
     "text": [
      "                                                                                \r"
     ]
    },
    {
     "data": {
      "text/html": [
       "<table>\n",
       "    <thead>\n",
       "        <tr>\n",
       "            <th>productcategoryname</th>\n",
       "            <th>productsubcategoryname</th>\n",
       "            <th>productname</th>\n",
       "            <th>salesterritorycountry</th>\n",
       "            <th>region</th>\n",
       "            <th>salesamount</th>\n",
       "            <th>orderdate</th>\n",
       "            <th>year</th>\n",
       "            <th>month</th>\n",
       "        </tr>\n",
       "    </thead>\n",
       "    <tbody>\n",
       "        <tr>\n",
       "            <td>Bikes</td>\n",
       "            <td>Road Bikes</td>\n",
       "            <td>Road-150 Red, 62</td>\n",
       "            <td>Canada</td>\n",
       "            <td>Americas</td>\n",
       "            <td>3578.27</td>\n",
       "            <td>2010-12-29</td>\n",
       "            <td>2010-01-01</td>\n",
       "            <td>2010-12-01</td>\n",
       "        </tr>\n",
       "        <tr>\n",
       "            <td>Bikes</td>\n",
       "            <td>Mountain Bikes</td>\n",
       "            <td>Mountain-100 Silver, 44</td>\n",
       "            <td>France</td>\n",
       "            <td>Europe</td>\n",
       "            <td>3399.99</td>\n",
       "            <td>2010-12-29</td>\n",
       "            <td>2010-01-01</td>\n",
       "            <td>2010-12-01</td>\n",
       "        </tr>\n",
       "        <tr>\n",
       "            <td>Bikes</td>\n",
       "            <td>Mountain Bikes</td>\n",
       "            <td>Mountain-100 Silver, 44</td>\n",
       "            <td>United States</td>\n",
       "            <td>Americas</td>\n",
       "            <td>3399.99</td>\n",
       "            <td>2010-12-29</td>\n",
       "            <td>2010-01-01</td>\n",
       "            <td>2010-12-01</td>\n",
       "        </tr>\n",
       "        <tr>\n",
       "            <td>Bikes</td>\n",
       "            <td>Road Bikes</td>\n",
       "            <td>Road-650 Black, 62</td>\n",
       "            <td>United States</td>\n",
       "            <td>Americas</td>\n",
       "            <td>699.0982</td>\n",
       "            <td>2010-12-29</td>\n",
       "            <td>2010-01-01</td>\n",
       "            <td>2010-12-01</td>\n",
       "        </tr>\n",
       "        <tr>\n",
       "            <td>Bikes</td>\n",
       "            <td>Mountain Bikes</td>\n",
       "            <td>Mountain-100 Silver, 44</td>\n",
       "            <td>Australia</td>\n",
       "            <td>Oceania</td>\n",
       "            <td>3399.99</td>\n",
       "            <td>2010-12-29</td>\n",
       "            <td>2010-01-01</td>\n",
       "            <td>2010-12-01</td>\n",
       "        </tr>\n",
       "    </tbody>\n",
       "</table>"
      ],
      "text/plain": [
       "+---------------------+------------------------+-------------------------+-----------------------+----------+-------------+------------+------------+------------+\n",
       "| productcategoryname | productsubcategoryname |             productname | salesterritorycountry |   region | salesamount |  orderdate |       year |      month |\n",
       "+---------------------+------------------------+-------------------------+-----------------------+----------+-------------+------------+------------+------------+\n",
       "|               Bikes |             Road Bikes |        Road-150 Red, 62 |                Canada | Americas |     3578.27 | 2010-12-29 | 2010-01-01 | 2010-12-01 |\n",
       "|               Bikes |         Mountain Bikes | Mountain-100 Silver, 44 |                France |   Europe |     3399.99 | 2010-12-29 | 2010-01-01 | 2010-12-01 |\n",
       "|               Bikes |         Mountain Bikes | Mountain-100 Silver, 44 |         United States | Americas |     3399.99 | 2010-12-29 | 2010-01-01 | 2010-12-01 |\n",
       "|               Bikes |             Road Bikes |      Road-650 Black, 62 |         United States | Americas |    699.0982 | 2010-12-29 | 2010-01-01 | 2010-12-01 |\n",
       "|               Bikes |         Mountain Bikes | Mountain-100 Silver, 44 |             Australia |  Oceania |     3399.99 | 2010-12-29 | 2010-01-01 | 2010-12-01 |\n",
       "+---------------------+------------------------+-------------------------+-----------------------+----------+-------------+------------+------------+------------+"
      ]
     },
     "execution_count": 2,
     "metadata": {},
     "output_type": "execute_result"
    }
   ],
   "source": [
    "%%sql\n",
    "\n",
    "SELECT * FROM nessie.sales.sales\n",
    "LIMIT 5"
   ]
  },
  {
   "cell_type": "code",
   "execution_count": null,
   "id": "3eedd9d7-db44-4ab5-b8ec-1ec405ccaca4",
   "metadata": {},
   "outputs": [],
   "source": []
  }
 ],
 "metadata": {
  "kernelspec": {
   "display_name": "Python 3 (ipykernel)",
   "language": "python",
   "name": "python3"
  }
 },
 "nbformat": 4,
 "nbformat_minor": 5
}
