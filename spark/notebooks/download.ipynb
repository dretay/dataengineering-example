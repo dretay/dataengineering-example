{
 "cells": [
  {
   "cell_type": "code",
   "execution_count": 1,
   "id": "7f1089dc-2390-483d-ad49-c8f2b94e7622",
   "metadata": {},
   "outputs": [],
   "source": [
    "import boto3\n",
    "import requests\n",
    "import re\n",
    "from tqdm import tqdm"
   ]
  },
  {
   "cell_type": "code",
   "execution_count": null,
   "id": "e5d204f5-42e0-4a3a-87a4-e27201841178",
   "metadata": {},
   "outputs": [],
   "source": [
    "s3 = boto3.resource('s3', \n",
    "    endpoint_url='http://minio:9000',\n",
    "    aws_access_key_id='admin',\n",
    "    aws_secret_access_key='password',\n",
    "    aws_session_token=None,\n",
    "    config=boto3.session.Config(signature_version='s3v4'),\n",
    "    verify=False\n",
    ")"
   ]
  },
  {
   "cell_type": "code",
   "execution_count": 6,
   "id": "876ad6a3-f61c-4a4a-8da4-1badc86fafbe",
   "metadata": {},
   "outputs": [
    {
     "name": "stderr",
     "output_type": "stream",
     "text": [
      "100% 15/15 [00:42<00:00,  2.83s/it]\n"
     ]
    }
   ],
   "source": [
    "BUCKET='rawcsv'\n",
    "urls = [\n",
    "    'https://raw.githubusercontent.com/developer-advocacy-dremio/iceberg-intro-lessons/refs/heads/main/datasets/df_games_and_open.csv',\n",
    "    'https://raw.githubusercontent.com/developer-advocacy-dremio/iceberg-intro-lessons/refs/heads/main/datasets/df_games_conso.csv',\n",
    "    'https://raw.githubusercontent.com/developer-advocacy-dremio/iceberg-intro-lessons/refs/heads/main/datasets/df_open_2011.csv',\n",
    "    'https://raw.githubusercontent.com/developer-advocacy-dremio/iceberg-intro-lessons/refs/heads/main/datasets/df_open_2012.csv',\n",
    "    'https://raw.githubusercontent.com/developer-advocacy-dremio/iceberg-intro-lessons/refs/heads/main/datasets/df_open_2013.csv',\n",
    "    'https://raw.githubusercontent.com/developer-advocacy-dremio/iceberg-intro-lessons/refs/heads/main/datasets/df_open_2014.csv',\n",
    "    'https://raw.githubusercontent.com/developer-advocacy-dremio/iceberg-intro-lessons/refs/heads/main/datasets/df_open_2015.csv',\n",
    "    'https://raw.githubusercontent.com/developer-advocacy-dremio/iceberg-intro-lessons/refs/heads/main/datasets/df_open_2016.csv',\n",
    "    'https://raw.githubusercontent.com/developer-advocacy-dremio/iceberg-intro-lessons/refs/heads/main/datasets/df_open_2017.csv',\n",
    "    'https://raw.githubusercontent.com/developer-advocacy-dremio/iceberg-intro-lessons/refs/heads/main/datasets/df_open_2018.csv',\n",
    "    'https://raw.githubusercontent.com/developer-advocacy-dremio/iceberg-intro-lessons/refs/heads/main/datasets/df_open_2019.csv',\n",
    "    'https://raw.githubusercontent.com/developer-advocacy-dremio/iceberg-intro-lessons/refs/heads/main/datasets/df_open_2020.csv',\n",
    "    'https://raw.githubusercontent.com/developer-advocacy-dremio/iceberg-intro-lessons/refs/heads/main/datasets/df_open_2021.csv',\n",
    "    'https://raw.githubusercontent.com/developer-advocacy-dremio/iceberg-intro-lessons/refs/heads/main/datasets/df_open_2022.csv',\n",
    "    'https://raw.githubusercontent.com/developer-advocacy-dremio/iceberg-intro-lessons/refs/heads/main/datasets/df_open_2023.csv'\n",
    "]\n",
    "for url in tqdm(urls):\n",
    "    filename = re.search(r'.*/([^/]+)$', url).group(1)\n",
    "    r = requests.get(url)\n",
    "    s3.Bucket(BUCKET).put_object(Key=filename, Body=r.content)\n"
   ]
  }
 ],
 "metadata": {
  "kernelspec": {
   "display_name": "Python 3 (ipykernel)",
   "language": "python",
   "name": "python3"
  },
  "language_info": {
   "codemirror_mode": {
    "name": "ipython",
    "version": 3
   },
   "file_extension": ".py",
   "mimetype": "text/x-python",
   "name": "python",
   "nbconvert_exporter": "python",
   "pygments_lexer": "ipython3",
   "version": "3.10.16"
  }
 },
 "nbformat": 4,
 "nbformat_minor": 5
}
