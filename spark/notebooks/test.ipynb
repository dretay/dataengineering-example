{
 "cells": [
  {
   "cell_type": "code",
   "execution_count": 11,
   "id": "3ad35aaa",
   "metadata": {},
   "outputs": [],
   "source": [
    "import boto3\n",
    "import tempfile\n",
    "import pyspark"
   ]
  },
  {
   "cell_type": "code",
   "execution_count": 9,
   "id": "5b1e6799",
   "metadata": {},
   "outputs": [],
   "source": [
    "s3 = boto3.client('s3', \n",
    "        endpoint_url='http://minio:9000',\n",
    "        aws_access_key_id='admin',\n",
    "        aws_secret_access_key='password',\n",
    "        aws_session_token=None,\n",
    "        config=boto3.session.Config(signature_version='s3v4'),\n",
    "        verify=False\n",
    "    )\n",
    "BUCKET='rawcsv'"
   ]
  },
  {
   "cell_type": "code",
   "execution_count": 13,
   "id": "a0180b7c",
   "metadata": {},
   "outputs": [
    {
     "name": "stderr",
     "output_type": "stream",
     "text": [
      "25/04/06 06:57:01 WARN SparkSession: Using an existing Spark session; only runtime SQL configurations will take effect.\n"
     ]
    },
    {
     "data": {
      "text/html": [
       "<table>\n",
       "    <thead>\n",
       "        <tr>\n",
       "        </tr>\n",
       "    </thead>\n",
       "    <tbody>\n",
       "    </tbody>\n",
       "</table>"
      ],
      "text/plain": [
       "++\n",
       "||\n",
       "++\n",
       "++"
      ]
     },
     "execution_count": 13,
     "metadata": {},
     "output_type": "execute_result"
    }
   ],
   "source": [
    "%%sql\n",
    "\n",
    "CREATE DATABASE IF NOT EXISTS nessie"
   ]
  },
  {
   "cell_type": "code",
   "execution_count": 15,
   "id": "06e5c931",
   "metadata": {},
   "outputs": [
    {
     "name": "stderr",
     "output_type": "stream",
     "text": [
      "                                                                                \r"
     ]
    }
   ],
   "source": [
    "# download the file\n",
    "data = s3.get_object(Bucket=BUCKET, Key='df_open_2023.csv')\n",
    "# print(data['Body'].read().decode('utf-8').splitlines()[0])\n",
    "# create a temporary file\n",
    "with tempfile.NamedTemporaryFile(mode='w',suffix='.csv') as tf:\n",
    "    # write the downloaded data to the temporary file\n",
    "    tf.write(data['Body'].read().decode('utf-8'))\n",
    "\n",
    "    df = spark.read.format(\"csv\").option(\"header\", \"true\").load(tf.name)\n",
    "    df.write.saveAsTable(\"nessie.df_open_2023_lesson\")\n",
    "\n",
    "\n",
    "    # close and delete the temporary file when we're done with it\n",
    "    tf.close()"
   ]
  },
  {
   "cell_type": "code",
   "execution_count": 16,
   "id": "ebc0dc49",
   "metadata": {},
   "outputs": [
    {
     "data": {
      "text/html": [
       "<table>\n",
       "    <thead>\n",
       "        <tr>\n",
       "            <th>cnt</th>\n",
       "        </tr>\n",
       "    </thead>\n",
       "    <tbody>\n",
       "        <tr>\n",
       "            <td>302231</td>\n",
       "        </tr>\n",
       "    </tbody>\n",
       "</table>"
      ],
      "text/plain": [
       "+--------+\n",
       "|    cnt |\n",
       "+--------+\n",
       "| 302231 |\n",
       "+--------+"
      ]
     },
     "execution_count": 16,
     "metadata": {},
     "output_type": "execute_result"
    }
   ],
   "source": [
    "%%sql\n",
    "\n",
    "SELECT COUNT(*) as cnt\n",
    "FROM nessie.df_open_2023_lesson"
   ]
  },
  {
   "cell_type": "code",
   "execution_count": null,
   "id": "7c8bf0d9",
   "metadata": {},
   "outputs": [],
   "source": []
  }
 ],
 "metadata": {
  "kernelspec": {
   "display_name": "Python 3 (ipykernel)",
   "language": "python",
   "name": "python3"
  },
  "language_info": {
   "codemirror_mode": {
    "name": "ipython",
    "version": 3
   },
   "file_extension": ".py",
   "mimetype": "text/x-python",
   "name": "python",
   "nbconvert_exporter": "python",
   "pygments_lexer": "ipython3",
   "version": "3.10.16"
  }
 },
 "nbformat": 4,
 "nbformat_minor": 5
}
